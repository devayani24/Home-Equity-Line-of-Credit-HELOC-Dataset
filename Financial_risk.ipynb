{
 "cells": [
  {
   "cell_type": "markdown",
   "id": "3f75f010",
   "metadata": {},
   "source": [
    "# Importing necessary libraries"
   ]
  },
  {
   "cell_type": "code",
   "execution_count": 126,
   "id": "eba6a24d",
   "metadata": {},
   "outputs": [
    {
     "name": "stdout",
     "output_type": "stream",
     "text": [
      "2.10.0\n"
     ]
    }
   ],
   "source": [
    "import pandas as pd\n",
    "import matplotlib.pyplot as plt\n",
    "import tensorflow as tf\n",
    "from tensorflow.keras import Sequential\n",
    "from tensorflow.keras.layers import Flatten, Dense, Dropout, BatchNormalization\n",
    "from tensorflow.keras.layers import Conv1D, MaxPool1D\n",
    "from tensorflow.keras.optimizers import Adam\n",
    "print(tf.__version__)\n",
    "import xgboost as xgb\n",
    "from sklearn.metrics import mean_squared_error\n",
    "from sklearn.metrics import accuracy_score\n",
    "import lifelines\n",
    "import shap\n",
    "plt.style.use('fivethirtyeight')\n",
    "import numpy as np\n",
    "import matplotlib.pyplot as plt\n",
    "from sklearn.model_selection import train_test_split\n",
    "from sklearn.preprocessing import StandardScaler, LabelEncoder"
   ]
  },
  {
   "cell_type": "markdown",
   "id": "445b0f81",
   "metadata": {},
   "source": [
    "# Data Importing and pre-processing"
   ]
  },
  {
   "cell_type": "code",
   "execution_count": 33,
   "id": "907f47ef",
   "metadata": {},
   "outputs": [],
   "source": [
    "data=pd.read_csv('heloc_dataset_v1.csv')"
   ]
  },
  {
   "cell_type": "code",
   "execution_count": 34,
   "id": "68d73a5f",
   "metadata": {},
   "outputs": [
    {
     "data": {
      "text/html": [
       "<div>\n",
       "<style scoped>\n",
       "    .dataframe tbody tr th:only-of-type {\n",
       "        vertical-align: middle;\n",
       "    }\n",
       "\n",
       "    .dataframe tbody tr th {\n",
       "        vertical-align: top;\n",
       "    }\n",
       "\n",
       "    .dataframe thead th {\n",
       "        text-align: right;\n",
       "    }\n",
       "</style>\n",
       "<table border=\"1\" class=\"dataframe\">\n",
       "  <thead>\n",
       "    <tr style=\"text-align: right;\">\n",
       "      <th></th>\n",
       "      <th>RiskPerformance</th>\n",
       "      <th>ExternalRiskEstimate</th>\n",
       "      <th>MSinceOldestTradeOpen</th>\n",
       "      <th>MSinceMostRecentTradeOpen</th>\n",
       "      <th>AverageMInFile</th>\n",
       "      <th>NumSatisfactoryTrades</th>\n",
       "      <th>NumTrades60Ever2DerogPubRec</th>\n",
       "      <th>NumTrades90Ever2DerogPubRec</th>\n",
       "      <th>PercentTradesNeverDelq</th>\n",
       "      <th>MSinceMostRecentDelq</th>\n",
       "      <th>...</th>\n",
       "      <th>PercentInstallTrades</th>\n",
       "      <th>MSinceMostRecentInqexcl7days</th>\n",
       "      <th>NumInqLast6M</th>\n",
       "      <th>NumInqLast6Mexcl7days</th>\n",
       "      <th>NetFractionRevolvingBurden</th>\n",
       "      <th>NetFractionInstallBurden</th>\n",
       "      <th>NumRevolvingTradesWBalance</th>\n",
       "      <th>NumInstallTradesWBalance</th>\n",
       "      <th>NumBank2NatlTradesWHighUtilization</th>\n",
       "      <th>PercentTradesWBalance</th>\n",
       "    </tr>\n",
       "  </thead>\n",
       "  <tbody>\n",
       "    <tr>\n",
       "      <th>0</th>\n",
       "      <td>Bad</td>\n",
       "      <td>55</td>\n",
       "      <td>144</td>\n",
       "      <td>4</td>\n",
       "      <td>84</td>\n",
       "      <td>20</td>\n",
       "      <td>3</td>\n",
       "      <td>0</td>\n",
       "      <td>83</td>\n",
       "      <td>2</td>\n",
       "      <td>...</td>\n",
       "      <td>43</td>\n",
       "      <td>0</td>\n",
       "      <td>0</td>\n",
       "      <td>0</td>\n",
       "      <td>33</td>\n",
       "      <td>-8</td>\n",
       "      <td>8</td>\n",
       "      <td>1</td>\n",
       "      <td>1</td>\n",
       "      <td>69</td>\n",
       "    </tr>\n",
       "    <tr>\n",
       "      <th>1</th>\n",
       "      <td>Bad</td>\n",
       "      <td>61</td>\n",
       "      <td>58</td>\n",
       "      <td>15</td>\n",
       "      <td>41</td>\n",
       "      <td>2</td>\n",
       "      <td>4</td>\n",
       "      <td>4</td>\n",
       "      <td>100</td>\n",
       "      <td>-7</td>\n",
       "      <td>...</td>\n",
       "      <td>67</td>\n",
       "      <td>0</td>\n",
       "      <td>0</td>\n",
       "      <td>0</td>\n",
       "      <td>0</td>\n",
       "      <td>-8</td>\n",
       "      <td>0</td>\n",
       "      <td>-8</td>\n",
       "      <td>-8</td>\n",
       "      <td>0</td>\n",
       "    </tr>\n",
       "    <tr>\n",
       "      <th>2</th>\n",
       "      <td>Bad</td>\n",
       "      <td>67</td>\n",
       "      <td>66</td>\n",
       "      <td>5</td>\n",
       "      <td>24</td>\n",
       "      <td>9</td>\n",
       "      <td>0</td>\n",
       "      <td>0</td>\n",
       "      <td>100</td>\n",
       "      <td>-7</td>\n",
       "      <td>...</td>\n",
       "      <td>44</td>\n",
       "      <td>0</td>\n",
       "      <td>4</td>\n",
       "      <td>4</td>\n",
       "      <td>53</td>\n",
       "      <td>66</td>\n",
       "      <td>4</td>\n",
       "      <td>2</td>\n",
       "      <td>1</td>\n",
       "      <td>86</td>\n",
       "    </tr>\n",
       "    <tr>\n",
       "      <th>3</th>\n",
       "      <td>Bad</td>\n",
       "      <td>66</td>\n",
       "      <td>169</td>\n",
       "      <td>1</td>\n",
       "      <td>73</td>\n",
       "      <td>28</td>\n",
       "      <td>1</td>\n",
       "      <td>1</td>\n",
       "      <td>93</td>\n",
       "      <td>76</td>\n",
       "      <td>...</td>\n",
       "      <td>57</td>\n",
       "      <td>0</td>\n",
       "      <td>5</td>\n",
       "      <td>4</td>\n",
       "      <td>72</td>\n",
       "      <td>83</td>\n",
       "      <td>6</td>\n",
       "      <td>4</td>\n",
       "      <td>3</td>\n",
       "      <td>91</td>\n",
       "    </tr>\n",
       "    <tr>\n",
       "      <th>4</th>\n",
       "      <td>Bad</td>\n",
       "      <td>81</td>\n",
       "      <td>333</td>\n",
       "      <td>27</td>\n",
       "      <td>132</td>\n",
       "      <td>12</td>\n",
       "      <td>0</td>\n",
       "      <td>0</td>\n",
       "      <td>100</td>\n",
       "      <td>-7</td>\n",
       "      <td>...</td>\n",
       "      <td>25</td>\n",
       "      <td>0</td>\n",
       "      <td>1</td>\n",
       "      <td>1</td>\n",
       "      <td>51</td>\n",
       "      <td>89</td>\n",
       "      <td>3</td>\n",
       "      <td>1</td>\n",
       "      <td>0</td>\n",
       "      <td>80</td>\n",
       "    </tr>\n",
       "  </tbody>\n",
       "</table>\n",
       "<p>5 rows × 24 columns</p>\n",
       "</div>"
      ],
      "text/plain": [
       "  RiskPerformance  ExternalRiskEstimate  MSinceOldestTradeOpen  \\\n",
       "0             Bad                    55                    144   \n",
       "1             Bad                    61                     58   \n",
       "2             Bad                    67                     66   \n",
       "3             Bad                    66                    169   \n",
       "4             Bad                    81                    333   \n",
       "\n",
       "   MSinceMostRecentTradeOpen  AverageMInFile  NumSatisfactoryTrades  \\\n",
       "0                          4              84                     20   \n",
       "1                         15              41                      2   \n",
       "2                          5              24                      9   \n",
       "3                          1              73                     28   \n",
       "4                         27             132                     12   \n",
       "\n",
       "   NumTrades60Ever2DerogPubRec  NumTrades90Ever2DerogPubRec  \\\n",
       "0                            3                            0   \n",
       "1                            4                            4   \n",
       "2                            0                            0   \n",
       "3                            1                            1   \n",
       "4                            0                            0   \n",
       "\n",
       "   PercentTradesNeverDelq  MSinceMostRecentDelq  ...  PercentInstallTrades  \\\n",
       "0                      83                     2  ...                    43   \n",
       "1                     100                    -7  ...                    67   \n",
       "2                     100                    -7  ...                    44   \n",
       "3                      93                    76  ...                    57   \n",
       "4                     100                    -7  ...                    25   \n",
       "\n",
       "   MSinceMostRecentInqexcl7days  NumInqLast6M  NumInqLast6Mexcl7days  \\\n",
       "0                             0             0                      0   \n",
       "1                             0             0                      0   \n",
       "2                             0             4                      4   \n",
       "3                             0             5                      4   \n",
       "4                             0             1                      1   \n",
       "\n",
       "   NetFractionRevolvingBurden  NetFractionInstallBurden  \\\n",
       "0                          33                        -8   \n",
       "1                           0                        -8   \n",
       "2                          53                        66   \n",
       "3                          72                        83   \n",
       "4                          51                        89   \n",
       "\n",
       "   NumRevolvingTradesWBalance  NumInstallTradesWBalance  \\\n",
       "0                           8                         1   \n",
       "1                           0                        -8   \n",
       "2                           4                         2   \n",
       "3                           6                         4   \n",
       "4                           3                         1   \n",
       "\n",
       "   NumBank2NatlTradesWHighUtilization  PercentTradesWBalance  \n",
       "0                                   1                     69  \n",
       "1                                  -8                      0  \n",
       "2                                   1                     86  \n",
       "3                                   3                     91  \n",
       "4                                   0                     80  \n",
       "\n",
       "[5 rows x 24 columns]"
      ]
     },
     "execution_count": 34,
     "metadata": {},
     "output_type": "execute_result"
    }
   ],
   "source": [
    "data.head()"
   ]
  },
  {
   "cell_type": "code",
   "execution_count": 38,
   "id": "6f076309",
   "metadata": {},
   "outputs": [],
   "source": [
    "data['RiskPerformance']=np.where(data['RiskPerformance']=='Bad',0,1)"
   ]
  },
  {
   "cell_type": "code",
   "execution_count": 39,
   "id": "19b0e55f",
   "metadata": {},
   "outputs": [
    {
     "data": {
      "text/html": [
       "<div>\n",
       "<style scoped>\n",
       "    .dataframe tbody tr th:only-of-type {\n",
       "        vertical-align: middle;\n",
       "    }\n",
       "\n",
       "    .dataframe tbody tr th {\n",
       "        vertical-align: top;\n",
       "    }\n",
       "\n",
       "    .dataframe thead th {\n",
       "        text-align: right;\n",
       "    }\n",
       "</style>\n",
       "<table border=\"1\" class=\"dataframe\">\n",
       "  <thead>\n",
       "    <tr style=\"text-align: right;\">\n",
       "      <th></th>\n",
       "      <th>RiskPerformance</th>\n",
       "      <th>ExternalRiskEstimate</th>\n",
       "      <th>MSinceOldestTradeOpen</th>\n",
       "      <th>MSinceMostRecentTradeOpen</th>\n",
       "      <th>AverageMInFile</th>\n",
       "      <th>NumSatisfactoryTrades</th>\n",
       "      <th>NumTrades60Ever2DerogPubRec</th>\n",
       "      <th>NumTrades90Ever2DerogPubRec</th>\n",
       "      <th>PercentTradesNeverDelq</th>\n",
       "      <th>MSinceMostRecentDelq</th>\n",
       "      <th>...</th>\n",
       "      <th>PercentInstallTrades</th>\n",
       "      <th>MSinceMostRecentInqexcl7days</th>\n",
       "      <th>NumInqLast6M</th>\n",
       "      <th>NumInqLast6Mexcl7days</th>\n",
       "      <th>NetFractionRevolvingBurden</th>\n",
       "      <th>NetFractionInstallBurden</th>\n",
       "      <th>NumRevolvingTradesWBalance</th>\n",
       "      <th>NumInstallTradesWBalance</th>\n",
       "      <th>NumBank2NatlTradesWHighUtilization</th>\n",
       "      <th>PercentTradesWBalance</th>\n",
       "    </tr>\n",
       "  </thead>\n",
       "  <tbody>\n",
       "    <tr>\n",
       "      <th>0</th>\n",
       "      <td>0</td>\n",
       "      <td>55</td>\n",
       "      <td>144</td>\n",
       "      <td>4</td>\n",
       "      <td>84</td>\n",
       "      <td>20</td>\n",
       "      <td>3</td>\n",
       "      <td>0</td>\n",
       "      <td>83</td>\n",
       "      <td>2</td>\n",
       "      <td>...</td>\n",
       "      <td>43</td>\n",
       "      <td>0</td>\n",
       "      <td>0</td>\n",
       "      <td>0</td>\n",
       "      <td>33</td>\n",
       "      <td>-8</td>\n",
       "      <td>8</td>\n",
       "      <td>1</td>\n",
       "      <td>1</td>\n",
       "      <td>69</td>\n",
       "    </tr>\n",
       "    <tr>\n",
       "      <th>1</th>\n",
       "      <td>0</td>\n",
       "      <td>61</td>\n",
       "      <td>58</td>\n",
       "      <td>15</td>\n",
       "      <td>41</td>\n",
       "      <td>2</td>\n",
       "      <td>4</td>\n",
       "      <td>4</td>\n",
       "      <td>100</td>\n",
       "      <td>-7</td>\n",
       "      <td>...</td>\n",
       "      <td>67</td>\n",
       "      <td>0</td>\n",
       "      <td>0</td>\n",
       "      <td>0</td>\n",
       "      <td>0</td>\n",
       "      <td>-8</td>\n",
       "      <td>0</td>\n",
       "      <td>-8</td>\n",
       "      <td>-8</td>\n",
       "      <td>0</td>\n",
       "    </tr>\n",
       "    <tr>\n",
       "      <th>2</th>\n",
       "      <td>0</td>\n",
       "      <td>67</td>\n",
       "      <td>66</td>\n",
       "      <td>5</td>\n",
       "      <td>24</td>\n",
       "      <td>9</td>\n",
       "      <td>0</td>\n",
       "      <td>0</td>\n",
       "      <td>100</td>\n",
       "      <td>-7</td>\n",
       "      <td>...</td>\n",
       "      <td>44</td>\n",
       "      <td>0</td>\n",
       "      <td>4</td>\n",
       "      <td>4</td>\n",
       "      <td>53</td>\n",
       "      <td>66</td>\n",
       "      <td>4</td>\n",
       "      <td>2</td>\n",
       "      <td>1</td>\n",
       "      <td>86</td>\n",
       "    </tr>\n",
       "    <tr>\n",
       "      <th>3</th>\n",
       "      <td>0</td>\n",
       "      <td>66</td>\n",
       "      <td>169</td>\n",
       "      <td>1</td>\n",
       "      <td>73</td>\n",
       "      <td>28</td>\n",
       "      <td>1</td>\n",
       "      <td>1</td>\n",
       "      <td>93</td>\n",
       "      <td>76</td>\n",
       "      <td>...</td>\n",
       "      <td>57</td>\n",
       "      <td>0</td>\n",
       "      <td>5</td>\n",
       "      <td>4</td>\n",
       "      <td>72</td>\n",
       "      <td>83</td>\n",
       "      <td>6</td>\n",
       "      <td>4</td>\n",
       "      <td>3</td>\n",
       "      <td>91</td>\n",
       "    </tr>\n",
       "    <tr>\n",
       "      <th>4</th>\n",
       "      <td>0</td>\n",
       "      <td>81</td>\n",
       "      <td>333</td>\n",
       "      <td>27</td>\n",
       "      <td>132</td>\n",
       "      <td>12</td>\n",
       "      <td>0</td>\n",
       "      <td>0</td>\n",
       "      <td>100</td>\n",
       "      <td>-7</td>\n",
       "      <td>...</td>\n",
       "      <td>25</td>\n",
       "      <td>0</td>\n",
       "      <td>1</td>\n",
       "      <td>1</td>\n",
       "      <td>51</td>\n",
       "      <td>89</td>\n",
       "      <td>3</td>\n",
       "      <td>1</td>\n",
       "      <td>0</td>\n",
       "      <td>80</td>\n",
       "    </tr>\n",
       "  </tbody>\n",
       "</table>\n",
       "<p>5 rows × 24 columns</p>\n",
       "</div>"
      ],
      "text/plain": [
       "   RiskPerformance  ExternalRiskEstimate  MSinceOldestTradeOpen  \\\n",
       "0                0                    55                    144   \n",
       "1                0                    61                     58   \n",
       "2                0                    67                     66   \n",
       "3                0                    66                    169   \n",
       "4                0                    81                    333   \n",
       "\n",
       "   MSinceMostRecentTradeOpen  AverageMInFile  NumSatisfactoryTrades  \\\n",
       "0                          4              84                     20   \n",
       "1                         15              41                      2   \n",
       "2                          5              24                      9   \n",
       "3                          1              73                     28   \n",
       "4                         27             132                     12   \n",
       "\n",
       "   NumTrades60Ever2DerogPubRec  NumTrades90Ever2DerogPubRec  \\\n",
       "0                            3                            0   \n",
       "1                            4                            4   \n",
       "2                            0                            0   \n",
       "3                            1                            1   \n",
       "4                            0                            0   \n",
       "\n",
       "   PercentTradesNeverDelq  MSinceMostRecentDelq  ...  PercentInstallTrades  \\\n",
       "0                      83                     2  ...                    43   \n",
       "1                     100                    -7  ...                    67   \n",
       "2                     100                    -7  ...                    44   \n",
       "3                      93                    76  ...                    57   \n",
       "4                     100                    -7  ...                    25   \n",
       "\n",
       "   MSinceMostRecentInqexcl7days  NumInqLast6M  NumInqLast6Mexcl7days  \\\n",
       "0                             0             0                      0   \n",
       "1                             0             0                      0   \n",
       "2                             0             4                      4   \n",
       "3                             0             5                      4   \n",
       "4                             0             1                      1   \n",
       "\n",
       "   NetFractionRevolvingBurden  NetFractionInstallBurden  \\\n",
       "0                          33                        -8   \n",
       "1                           0                        -8   \n",
       "2                          53                        66   \n",
       "3                          72                        83   \n",
       "4                          51                        89   \n",
       "\n",
       "   NumRevolvingTradesWBalance  NumInstallTradesWBalance  \\\n",
       "0                           8                         1   \n",
       "1                           0                        -8   \n",
       "2                           4                         2   \n",
       "3                           6                         4   \n",
       "4                           3                         1   \n",
       "\n",
       "   NumBank2NatlTradesWHighUtilization  PercentTradesWBalance  \n",
       "0                                   1                     69  \n",
       "1                                  -8                      0  \n",
       "2                                   1                     86  \n",
       "3                                   3                     91  \n",
       "4                                   0                     80  \n",
       "\n",
       "[5 rows x 24 columns]"
      ]
     },
     "execution_count": 39,
     "metadata": {},
     "output_type": "execute_result"
    }
   ],
   "source": [
    "data.head()"
   ]
  },
  {
   "cell_type": "code",
   "execution_count": 64,
   "id": "eca88192",
   "metadata": {},
   "outputs": [],
   "source": [
    "\n",
    "X, y = (data.iloc[:,1:]).values,(data.iloc[:,0]).values"
   ]
  },
  {
   "cell_type": "code",
   "execution_count": 65,
   "id": "871bf70f",
   "metadata": {
    "scrolled": true
   },
   "outputs": [],
   "source": [
    "data_dmatrix = xgb.DMatrix(data=X,label=y)"
   ]
  },
  {
   "cell_type": "markdown",
   "id": "e68f460f",
   "metadata": {},
   "source": [
    "# Model Building- Basic XGB Booster"
   ]
  },
  {
   "cell_type": "code",
   "execution_count": 66,
   "id": "47521cc0",
   "metadata": {},
   "outputs": [],
   "source": [
    "X_train, X_test, y_train, y_test = train_test_split(X, y, test_size = 0.2, random_state = 0, stratify = y)"
   ]
  },
  {
   "cell_type": "code",
   "execution_count": 67,
   "id": "6858f7b8",
   "metadata": {},
   "outputs": [],
   "source": [
    "clf=xgb.XGBClassifier() "
   ]
  },
  {
   "cell_type": "code",
   "execution_count": 68,
   "id": "da9c3b6b",
   "metadata": {},
   "outputs": [],
   "source": [
    "clf.fit(X_train,y_train)\n",
    "\n",
    "preds = clf.predict(X_test)"
   ]
  },
  {
   "cell_type": "code",
   "execution_count": 69,
   "id": "c0d42741",
   "metadata": {},
   "outputs": [
    {
     "name": "stdout",
     "output_type": "stream",
     "text": [
      "RMSE: 0.534650\n"
     ]
    }
   ],
   "source": [
    "rmse = np.sqrt(mean_squared_error(y_test, preds))\n",
    "print(\"RMSE: %f\" % (rmse))"
   ]
  },
  {
   "cell_type": "code",
   "execution_count": 70,
   "id": "766a3da8",
   "metadata": {
    "scrolled": true
   },
   "outputs": [
    {
     "name": "stdout",
     "output_type": "stream",
     "text": [
      "Accuracy: 71.41%\n"
     ]
    }
   ],
   "source": [
    "# evaluate predictions\n",
    "accuracy = accuracy_score(y_test, preds)\n",
    "print(\"Accuracy: %.2f%%\" % (accuracy * 100.0))"
   ]
  },
  {
   "cell_type": "markdown",
   "id": "7c03ba9d",
   "metadata": {},
   "source": [
    "# Shap values: feature importance"
   ]
  },
  {
   "cell_type": "code",
   "execution_count": 89,
   "id": "e033d63a",
   "metadata": {},
   "outputs": [
    {
     "name": "stderr",
     "output_type": "stream",
     "text": [
      "ntree_limit is deprecated, use `iteration_range` or model slicing instead.\n"
     ]
    }
   ],
   "source": [
    "# make sure the SHAP values add up to marginal predictions\n",
    "# pred = clf.predict(data_dmatrix, output_margin=True)\n",
    "explainer = shap.TreeExplainer(clf)\n",
    "shap_values = explainer.shap_values(X_test)\n",
    "# np.abs(shap_values.sum(1) + explainer.expected_value - pred).max()"
   ]
  },
  {
   "cell_type": "code",
   "execution_count": 96,
   "id": "211b604a",
   "metadata": {},
   "outputs": [],
   "source": [
    "features=(data.iloc[:,1:]).columns"
   ]
  },
  {
   "cell_type": "markdown",
   "id": "abcb3333",
   "metadata": {},
   "source": [
    "### Overall feature importance of a model"
   ]
  },
  {
   "cell_type": "code",
   "execution_count": 114,
   "id": "bb8c9270",
   "metadata": {
    "scrolled": false
   },
   "outputs": [
    {
     "data": {
      "image/png": "[encoded data removed]",
      "text/plain": [
       "<Figure size 576x684 with 2 Axes>"
      ]
     },
     "metadata": {},
     "output_type": "display_data"
    }
   ],
   "source": [
    "shap.summary_plot(shap_values, X_test, feature_names=features)"
   ]
  },
  {
   "cell_type": "markdown",
   "id": "35d287d0",
   "metadata": {},
   "source": [
    " \n",
    "The side colors bar from high to low indicate the value of the feature, and at the x-axis tells risk, the positive side tells you there is a no risk (Good) and the negative side tells you that there is risk (Bad). Actually the negative side is 0 and the positive side is 1.\n",
    "\n",
    "Higher value of ExternalRiskEstimat determines there is no risk (Good),  and lower value determines there is a risk (Bad). “MSinceMostRecentInqexcl7days” high value determines there is no risk (Good), and the low value determines there is a risk (Bad). \n",
    "\n",
    "The features are sorted by their significance in the data. We can see that “ExternalRiskEstimat” is the most important feature."
   ]
  },
  {
   "cell_type": "markdown",
   "id": "56a6b44b",
   "metadata": {},
   "source": [
    "### Shap values for each input- tells the feature importance "
   ]
  },
  {
   "cell_type": "markdown",
   "id": "1faaa2df",
   "metadata": {},
   "source": [
    "#### Case 1:  Consider we are predicting the value for X_test[0] "
   ]
  },
  {
   "cell_type": "code",
   "execution_count": 118,
   "id": "7b3f1b1a",
   "metadata": {},
   "outputs": [
    {
     "name": "stdout",
     "output_type": "stream",
     "text": [
      "The predicted value: 0\n",
      "The actual value: 0\n"
     ]
    }
   ],
   "source": [
    "predictions = clf.predict(X_test[0].reshape(1,23))\n",
    "print(f'The predicted value: {predictions[0]}\\nThe actual value: {y_test[0]}')"
   ]
  },
  {
   "cell_type": "markdown",
   "id": "848afb3e",
   "metadata": {},
   "source": [
    "Therefore the label is risk(bad)"
   ]
  },
  {
   "cell_type": "markdown",
   "id": "074f1270",
   "metadata": {},
   "source": [
    "##### Now lets see the shape value for the above input"
   ]
  },
  {
   "cell_type": "code",
   "execution_count": 127,
   "id": "928bd2a1",
   "metadata": {},
   "outputs": [
    {
     "data": {
      "text/html": [
       "\n",
       "<div id='i2BZJSX0W68EZYE18TWCJ'>\n",
       "<div style='color: #900; text-align: center;'>\n",
       "  <b>Visualization omitted, Javascript library not loaded!</b><br>\n",
       "  Have you run `initjs()` in this notebook? If this notebook was from another\n",
       "  user you must also trust this notebook (File -> Trust notebook). If you are viewing\n",
       "  this notebook on github the Javascript has been stripped for security. If you are using\n",
       "  JupyterLab this error is because a JupyterLab extension has not yet been written.\n",
       "</div></div>\n",
       " <script>\n",
       "   if (window.SHAP) SHAP.ReactDom.render(\n",
       "    SHAP.React.createElement(SHAP.AdditiveForceVisualizer, {\"outNames\": [\"f(x)\"], \"baseValue\": -0.11122606694698334, \"outValue\": -1.7272745370864868, \"link\": \"identity\", \"featureNames\": [\"ExternalRiskEstimate\", \"MSinceOldestTradeOpen\", \"MSinceMostRecentTradeOpen\", \"AverageMInFile\", \"NumSatisfactoryTrades\", \"NumTrades60Ever2DerogPubRec\", \"NumTrades90Ever2DerogPubRec\", \"PercentTradesNeverDelq\", \"MSinceMostRecentDelq\", \"MaxDelq2PublicRecLast12M\", \"MaxDelqEver\", \"NumTotalTrades\", \"NumTradesOpeninLast12M\", \"PercentInstallTrades\", \"MSinceMostRecentInqexcl7days\", \"NumInqLast6M\", \"NumInqLast6Mexcl7days\", \"NetFractionRevolvingBurden\", \"NetFractionInstallBurden\", \"NumRevolvingTradesWBalance\", \"NumInstallTradesWBalance\", \"NumBank2NatlTradesWHighUtilization\", \"PercentTradesWBalance\"], \"features\": {\"0\": {\"effect\": -0.8711348176002502, \"value\": \"\"}, \"1\": {\"effect\": -0.21297934651374817, \"value\": \"\"}, \"2\": {\"effect\": -0.08776796609163284, \"value\": \"\"}, \"3\": {\"effect\": -0.10347925871610641, \"value\": \"\"}, \"4\": {\"effect\": 0.12401916831731796, \"value\": \"\"}, \"5\": {\"effect\": -0.018541647121310234, \"value\": \"\"}, \"6\": {\"effect\": 0.000622021034359932, \"value\": \"\"}, \"7\": {\"effect\": 0.011641768738627434, \"value\": \"\"}, \"8\": {\"effect\": -0.12126749008893967, \"value\": \"\"}, \"9\": {\"effect\": -0.0474785640835762, \"value\": \"\"}, \"10\": {\"effect\": -0.07002347707748413, \"value\": \"\"}, \"11\": {\"effect\": -0.0750327780842781, \"value\": \"\"}, \"12\": {\"effect\": -0.060708653181791306, \"value\": \"\"}, \"13\": {\"effect\": 0.1396576166152954, \"value\": \"\"}, \"14\": {\"effect\": -0.41065195202827454, \"value\": \"\"}, \"15\": {\"effect\": -0.1067020371556282, \"value\": \"\"}, \"16\": {\"effect\": 0.027525972574949265, \"value\": \"\"}, \"17\": {\"effect\": 0.3349471092224121, \"value\": \"\"}, \"18\": {\"effect\": 0.1406356692314148, \"value\": \"\"}, \"19\": {\"effect\": -0.09638573229312897, \"value\": \"\"}, \"20\": {\"effect\": -0.06403157860040665, \"value\": \"\"}, \"21\": {\"effect\": 0.04804084822535515, \"value\": \"\"}, \"22\": {\"effect\": -0.09695356339216232, \"value\": \"\"}}, \"plot_cmap\": \"RdBu\", \"labelMargin\": 20}),\n",
       "    document.getElementById('i2BZJSX0W68EZYE18TWCJ')\n",
       "  );\n",
       "</script>"
      ],
      "text/plain": [
       "<shap.plots._force.AdditiveForceVisualizer at 0x18fc3d67af0>"
      ]
     },
     "execution_count": 127,
     "metadata": {},
     "output_type": "execute_result"
    }
   ],
   "source": [
    "# We can use the shapely values to interpret our model. \n",
    "# visualize the first prediction's explanation with a force plot\n",
    "shap.force_plot(explainer.expected_value, shap_values[0], features = features)"
   ]
  },
  {
   "cell_type": "markdown",
   "id": "8613e349",
   "metadata": {},
   "source": [
    "‘force_plot’ showing how each feature influences the output. \n",
    "‘ExternalRiskEstimat’, ‘MSinceMostRecentInqexcl7days’, are the biggest contributors in making predictions."
   ]
  },
  {
   "cell_type": "markdown",
   "id": "3c9e3255",
   "metadata": {},
   "source": [
    "#### Case 2:  Consider we are predicting the value for X_test[3] "
   ]
  },
  {
   "cell_type": "code",
   "execution_count": 122,
   "id": "2b726040",
   "metadata": {},
   "outputs": [
    {
     "name": "stdout",
     "output_type": "stream",
     "text": [
      "The predicted value: 1\n",
      "The actual value: 1\n"
     ]
    }
   ],
   "source": [
    "predictions = clf.predict(X_test[3].reshape(1,23))\n",
    "print(f'The predicted value: {predictions[0]}\\nThe actual value: {y_test[3]}')"
   ]
  },
  {
   "cell_type": "markdown",
   "id": "04dd5136",
   "metadata": {},
   "source": [
    "Therefore the label is no risk(good)"
   ]
  },
  {
   "cell_type": "code",
   "execution_count": 128,
   "id": "6f88d349",
   "metadata": {},
   "outputs": [
    {
     "data": {
      "text/html": [
       "\n",
       "<div id='iDH50B2W158L0BOW7O0QY'>\n",
       "<div style='color: #900; text-align: center;'>\n",
       "  <b>Visualization omitted, Javascript library not loaded!</b><br>\n",
       "  Have you run `initjs()` in this notebook? If this notebook was from another\n",
       "  user you must also trust this notebook (File -> Trust notebook). If you are viewing\n",
       "  this notebook on github the Javascript has been stripped for security. If you are using\n",
       "  JupyterLab this error is because a JupyterLab extension has not yet been written.\n",
       "</div></div>\n",
       " <script>\n",
       "   if (window.SHAP) SHAP.ReactDom.render(\n",
       "    SHAP.React.createElement(SHAP.AdditiveForceVisualizer, {\"outNames\": [\"f(x)\"], \"baseValue\": -0.11122606694698334, \"outValue\": 2.2057225704193115, \"link\": \"identity\", \"featureNames\": [\"ExternalRiskEstimate\", \"MSinceOldestTradeOpen\", \"MSinceMostRecentTradeOpen\", \"AverageMInFile\", \"NumSatisfactoryTrades\", \"NumTrades60Ever2DerogPubRec\", \"NumTrades90Ever2DerogPubRec\", \"PercentTradesNeverDelq\", \"MSinceMostRecentDelq\", \"MaxDelq2PublicRecLast12M\", \"MaxDelqEver\", \"NumTotalTrades\", \"NumTradesOpeninLast12M\", \"PercentInstallTrades\", \"MSinceMostRecentInqexcl7days\", \"NumInqLast6M\", \"NumInqLast6Mexcl7days\", \"NetFractionRevolvingBurden\", \"NetFractionInstallBurden\", \"NumRevolvingTradesWBalance\", \"NumInstallTradesWBalance\", \"NumBank2NatlTradesWHighUtilization\", \"PercentTradesWBalance\"], \"features\": {\"0\": {\"effect\": 1.3211647272109985, \"value\": \"\"}, \"1\": {\"effect\": -0.05798725783824921, \"value\": \"\"}, \"2\": {\"effect\": -0.005674637388437986, \"value\": \"\"}, \"3\": {\"effect\": 0.1316111832857132, \"value\": \"\"}, \"4\": {\"effect\": 0.01337805762887001, \"value\": \"\"}, \"5\": {\"effect\": -0.0043052867986261845, \"value\": \"\"}, \"6\": {\"effect\": 0.002715976443141699, \"value\": \"\"}, \"7\": {\"effect\": 0.2694820463657379, \"value\": \"\"}, \"8\": {\"effect\": -0.08833674341440201, \"value\": \"\"}, \"9\": {\"effect\": 0.009183383546769619, \"value\": \"\"}, \"10\": {\"effect\": 0.08439674973487854, \"value\": \"\"}, \"11\": {\"effect\": 0.07640579342842102, \"value\": \"\"}, \"12\": {\"effect\": -0.0050067175179719925, \"value\": \"\"}, \"13\": {\"effect\": 0.22479316592216492, \"value\": \"\"}, \"14\": {\"effect\": -0.3413251042366028, \"value\": \"\"}, \"15\": {\"effect\": -0.11500290036201477, \"value\": \"\"}, \"16\": {\"effect\": 0.02512030303478241, \"value\": \"\"}, \"17\": {\"effect\": 0.6241598129272461, \"value\": \"\"}, \"18\": {\"effect\": -0.0810052827000618, \"value\": \"\"}, \"19\": {\"effect\": 0.20741969347000122, \"value\": \"\"}, \"20\": {\"effect\": -0.07357142120599747, \"value\": \"\"}, \"21\": {\"effect\": 0.06364823877811432, \"value\": \"\"}, \"22\": {\"effect\": 0.03568515181541443, \"value\": \"\"}}, \"plot_cmap\": \"RdBu\", \"labelMargin\": 20}),\n",
       "    document.getElementById('iDH50B2W158L0BOW7O0QY')\n",
       "  );\n",
       "</script>"
      ],
      "text/plain": [
       "<shap.plots._force.AdditiveForceVisualizer at 0x18fc3d67a90>"
      ]
     },
     "execution_count": 128,
     "metadata": {},
     "output_type": "execute_result"
    }
   ],
   "source": [
    "\n",
    "shap.force_plot(explainer.expected_value, shap_values[3], features = features)"
   ]
  },
  {
   "cell_type": "markdown",
   "id": "addb052d",
   "metadata": {},
   "source": [
    "‘ExternalRiskEstimat’, ‘MSinceMostRecentInqexcl7days’, are the biggest contributors in making predictions."
   ]
  },
  {
   "cell_type": "markdown",
   "id": "00d19114",
   "metadata": {},
   "source": [
    "#### Case 2:  Consider we are predicting the value for X_test[4] "
   ]
  },
  {
   "cell_type": "code",
   "execution_count": 124,
   "id": "d527c60c",
   "metadata": {},
   "outputs": [
    {
     "name": "stdout",
     "output_type": "stream",
     "text": [
      "The predicted value: 1\n",
      "The actual value: 1\n"
     ]
    }
   ],
   "source": [
    "predictions = clf.predict(X_test[4].reshape(1,23))\n",
    "print(f'The predicted value: {predictions[0]}\\nThe actual value: {y_test[4]}')"
   ]
  },
  {
   "cell_type": "code",
   "execution_count": 129,
   "id": "aaf4e109",
   "metadata": {},
   "outputs": [
    {
     "data": {
      "text/html": [
       "\n",
       "<div id='i5ULGSJFI2OT4YMHXOML2'>\n",
       "<div style='color: #900; text-align: center;'>\n",
       "  <b>Visualization omitted, Javascript library not loaded!</b><br>\n",
       "  Have you run `initjs()` in this notebook? If this notebook was from another\n",
       "  user you must also trust this notebook (File -> Trust notebook). If you are viewing\n",
       "  this notebook on github the Javascript has been stripped for security. If you are using\n",
       "  JupyterLab this error is because a JupyterLab extension has not yet been written.\n",
       "</div></div>\n",
       " <script>\n",
       "   if (window.SHAP) SHAP.ReactDom.render(\n",
       "    SHAP.React.createElement(SHAP.AdditiveForceVisualizer, {\"outNames\": [\"f(x)\"], \"baseValue\": -0.11122606694698334, \"outValue\": 1.4310691356658936, \"link\": \"identity\", \"featureNames\": [\"ExternalRiskEstimate\", \"MSinceOldestTradeOpen\", \"MSinceMostRecentTradeOpen\", \"AverageMInFile\", \"NumSatisfactoryTrades\", \"NumTrades60Ever2DerogPubRec\", \"NumTrades90Ever2DerogPubRec\", \"PercentTradesNeverDelq\", \"MSinceMostRecentDelq\", \"MaxDelq2PublicRecLast12M\", \"MaxDelqEver\", \"NumTotalTrades\", \"NumTradesOpeninLast12M\", \"PercentInstallTrades\", \"MSinceMostRecentInqexcl7days\", \"NumInqLast6M\", \"NumInqLast6Mexcl7days\", \"NetFractionRevolvingBurden\", \"NetFractionInstallBurden\", \"NumRevolvingTradesWBalance\", \"NumInstallTradesWBalance\", \"NumBank2NatlTradesWHighUtilization\", \"PercentTradesWBalance\"], \"features\": {\"0\": {\"effect\": 1.032801628112793, \"value\": \"\"}, \"1\": {\"effect\": 0.09124240279197693, \"value\": \"\"}, \"2\": {\"effect\": 0.04275542497634888, \"value\": \"\"}, \"3\": {\"effect\": 0.08508015424013138, \"value\": \"\"}, \"4\": {\"effect\": 0.0780809223651886, \"value\": \"\"}, \"5\": {\"effect\": 0.003977895248681307, \"value\": \"\"}, \"6\": {\"effect\": 0.004770487546920776, \"value\": \"\"}, \"7\": {\"effect\": 0.27664658427238464, \"value\": \"\"}, \"8\": {\"effect\": -0.05781965330243111, \"value\": \"\"}, \"9\": {\"effect\": 0.056380052119493484, \"value\": \"\"}, \"10\": {\"effect\": -0.002280482091009617, \"value\": \"\"}, \"11\": {\"effect\": -0.33519676327705383, \"value\": \"\"}, \"12\": {\"effect\": -0.015696659684181213, \"value\": \"\"}, \"13\": {\"effect\": 0.1718880832195282, \"value\": \"\"}, \"14\": {\"effect\": 0.09666421264410019, \"value\": \"\"}, \"15\": {\"effect\": -0.04282643273472786, \"value\": \"\"}, \"16\": {\"effect\": -0.0028400032315403223, \"value\": \"\"}, \"17\": {\"effect\": 0.2687472105026245, \"value\": \"\"}, \"18\": {\"effect\": -0.05404385179281235, \"value\": \"\"}, \"19\": {\"effect\": 0.18415388464927673, \"value\": \"\"}, \"20\": {\"effect\": -0.16311931610107422, \"value\": \"\"}, \"21\": {\"effect\": 0.0721442773938179, \"value\": \"\"}, \"22\": {\"effect\": -0.24921473860740662, \"value\": \"\"}}, \"plot_cmap\": \"RdBu\", \"labelMargin\": 20}),\n",
       "    document.getElementById('i5ULGSJFI2OT4YMHXOML2')\n",
       "  );\n",
       "</script>"
      ],
      "text/plain": [
       "<shap.plots._force.AdditiveForceVisualizer at 0x18fc3d67fa0>"
      ]
     },
     "execution_count": 129,
     "metadata": {},
     "output_type": "execute_result"
    }
   ],
   "source": [
    "shap.force_plot(explainer.expected_value, shap_values[4], features = features)"
   ]
  },
  {
   "cell_type": "markdown",
   "id": "cce7286b",
   "metadata": {},
   "source": [
    "‘ExternalRiskEstimat’, ‘NumTotalTrades’, are the biggest contributors in making predictions."
   ]
  },
  {
   "cell_type": "code",
   "execution_count": null,
   "id": "19f19147",
   "metadata": {},
   "outputs": [],
   "source": []
  }
 ],
 "metadata": {
  "kernelspec": {
   "display_name": "Python 3 (ipykernel)",
   "language": "python",
   "name": "python3"
  },
  "language_info": {
   "codemirror_mode": {
    "name": "ipython",
    "version": 3
   },
   "file_extension": ".py",
   "mimetype": "text/x-python",
   "name": "python",
   "nbconvert_exporter": "python",
   "pygments_lexer": "ipython3",
   "version": "3.9.12"
  }
 },
 "nbformat": 4,
 "nbformat_minor": 5
}
